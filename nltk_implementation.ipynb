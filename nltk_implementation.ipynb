{
 "cells": [
  {
   "cell_type": "code",
   "execution_count": 37,
   "metadata": {},
   "outputs": [
    {
     "name": "stderr",
     "output_type": "stream",
     "text": [
      "[nltk_data] Downloading package treebank to\n",
      "[nltk_data]     /Users/krishpatel/nltk_data...\n",
      "[nltk_data]   Package treebank is already up-to-date!\n",
      "[nltk_data] Error loading _tkinter: Package '_tkinter' not found in\n",
      "[nltk_data]     index\n"
     ]
    }
   ],
   "source": [
    "# Basic experimentation with nltk\n",
    "# Install nltk using pip before usage\n",
    "import nltk\n",
    "\n",
    "nltk.download('punkt')\n",
    "nltk.download('averaged_perceptron_tagger')\n",
    "nltk.download('maxent_ne_chunker')\n",
    "nltk.download('words')\n",
    "nltk.download('treebank')\n",
    "from nltk.translate import bleu\n",
    "\n"
   ]
  },
  {
   "cell_type": "code",
   "execution_count": null,
   "metadata": {},
   "outputs": [],
   "source": [
    "# Testing out nltk's tokenization\n",
    "\n",
    "\n",
    "Test_Sentence = \"This is a basic test sentence to see how nltk works.\"\n",
    "tokens = nltk.word_tokenize(Test_Sentence)\n",
    "print(tokens)\n",
    "\n",
    "\n",
    "#testing out and printing tokens\n",
    "entities = nltk.chunk.ne_chunk(nltk.pos_tag(tokens))\n",
    "print(entities)\n",
    "\n",
    "# doesn't work because mac doesn't support tkinter\n",
    "\n",
    "# from nltk.corpus import treebank\n",
    "# t = treebank.parsed_sents('wsj_0001.mrg')[0]\n",
    "# t.draw()"
   ]
  },
  {
   "cell_type": "code",
   "execution_count": 26,
   "metadata": {},
   "outputs": [
    {
     "name": "stdout",
     "output_type": "stream",
     "text": [
      "0.11764705882352941\n"
     ]
    }
   ],
   "source": [
    "# Testing out Bleu Scoring\n",
    "sentence1 = \"Two string of words which are the same but don't have a single same word\"\n",
    "sentence2 = \"Despite their stark linguistic differences, both sentences convey the same underlying message with distinct vocabulary and structure.\"\n",
    "bleu_score = bleu([sentence1.split()], sentence2.split(),  (1,),)\n",
    "print(bleu_score)"
   ]
  },
  {
   "cell_type": "code",
   "execution_count": 30,
   "metadata": {},
   "outputs": [
    {
     "name": "stdout",
     "output_type": "stream",
     "text": [
      "{'neg': 0.0, 'neu': 0.401, 'pos': 0.599, 'compound': 0.8165}\n"
     ]
    },
    {
     "name": "stderr",
     "output_type": "stream",
     "text": [
      "[nltk_data] Downloading package vader_lexicon to\n",
      "[nltk_data]     /Users/krishpatel/nltk_data...\n"
     ]
    }
   ],
   "source": [
    "# Testing out nltk's sentimental analysis\n",
    "nltk.download('vader_lexicon')\n",
    "from nltk.sentiment.vader import SentimentIntensityAnalyzer\n",
    "sentence1 = \"This is very good! I am really happy.\"\n",
    "tokens = nltk.word_tokenize(sentence1)\n",
    "sid = SentimentIntensityAnalyzer()\n",
    "ss = sid.polarity_scores(sentence1)\n",
    "print(ss)"
   ]
  },
  {
   "cell_type": "code",
   "execution_count": 36,
   "metadata": {},
   "outputs": [
    {
     "name": "stdout",
     "output_type": "stream",
     "text": [
      "['This is a paragraph.', 'This is because there are multiple sentences in this text.', 'However, paragraphs are not separated with newline characters.', \"Isn't that obvious?\"]\n",
      "Sentence:  This is a paragraph.\n",
      "{'neg': 0.0, 'neu': 1.0, 'pos': 0.0, 'compound': 0.0}\n",
      "\n",
      "\n",
      "Sentence:  This is because there are multiple sentences in this text.\n",
      "{'neg': 0.0, 'neu': 0.882, 'pos': 0.118, 'compound': 0.0516}\n",
      "\n",
      "\n",
      "Sentence:  However, paragraphs are not separated with newline characters.\n",
      "{'neg': 0.0, 'neu': 1.0, 'pos': 0.0, 'compound': 0.0}\n",
      "\n",
      "\n",
      "Sentence:  Isn't that obvious?\n",
      "{'neg': 0.0, 'neu': 1.0, 'pos': 0.0, 'compound': 0.0}\n",
      "\n",
      "\n"
     ]
    }
   ],
   "source": [
    "# Converting paragraphs into sentences\n",
    "\n",
    "paragraph = \"This is a paragraph. This is because there are multiple sentences in this text. However, paragraphs are not separated with newline characters. Isn't that obvious?\"\n",
    "sentence_list = nltk.sent_tokenize(paragraph)\n",
    "print(sentence_list)\n",
    "for i in range(len(sentence_list)):\n",
    "    sid = SentimentIntensityAnalyzer()\n",
    "    ss = sid.polarity_scores(sentence_list[i])\n",
    "    print(\"Sentence: \", sentence_list[i])\n",
    "    print(ss)\n",
    "    print('\\n')"
   ]
  }
 ],
 "metadata": {
  "kernelspec": {
   "display_name": "Python 3",
   "language": "python",
   "name": "python3"
  },
  "language_info": {
   "codemirror_mode": {
    "name": "ipython",
    "version": 3
   },
   "file_extension": ".py",
   "mimetype": "text/x-python",
   "name": "python",
   "nbconvert_exporter": "python",
   "pygments_lexer": "ipython3",
   "version": "3.11.6"
  }
 },
 "nbformat": 4,
 "nbformat_minor": 2
}
